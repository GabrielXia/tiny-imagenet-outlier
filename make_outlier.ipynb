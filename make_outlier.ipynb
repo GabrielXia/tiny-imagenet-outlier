{
 "cells": [
  {
   "cell_type": "code",
   "execution_count": 17,
   "metadata": {},
   "outputs": [],
   "source": [
    "import os\n",
    "import numpy as np\n",
    "import csv"
   ]
  },
  {
   "cell_type": "code",
   "execution_count": 30,
   "metadata": {},
   "outputs": [],
   "source": [
    "# name, is_outlier, outlier_type, true_type\n",
    "def write_outlier(image_dir, ratio=0.1):\n",
    "    type_list = os.listdir(image_dir)\n",
    "    for type in type_list:\n",
    "        if os.path.isdir(image_dir + type + '/images/'):\n",
    "            images = os.listdir(image_dir + type + '/images/')\n",
    "            size_list = len(images)\n",
    "            outlier_num = int(size_list * ratio)\n",
    "            outlier_index = np.random.choice(size_list, outlier_num, replace=False)\n",
    "            outlier_label = np.random.choice([i for i in type_list if i != type], outlier_num, replace=True)\n",
    "            with open(image_dir + type + '/' + type + '_outlier_' + str(ratio) + '.csv', 'wb') as csvfile:\n",
    "                spamwriter = csv.writer(csvfile, delimiter=',',\n",
    "                        quotechar='|', quoting=csv.QUOTE_MINIMAL)\n",
    "                count = 0\n",
    "                for i, im in enumerate(images):\n",
    "                    if i not in outlier_index:\n",
    "                        spamwriter.writerow([im, 0, type, type])\n",
    "                    else:\n",
    "                        spamwriter.writerow([im, 1, outlier_label[count], type])\n",
    "                        count += 1"
   ]
  },
  {
   "cell_type": "code",
   "execution_count": 31,
   "metadata": {},
   "outputs": [],
   "source": [
    "dir = './tiny-imagenet-200/train/'\n",
    "write_outlier(dir)\n",
    "\n",
    "# rm */*.csv to remove the csv"
   ]
  },
  {
   "cell_type": "code",
   "execution_count": 37,
   "metadata": {},
   "outputs": [],
   "source": [
    "def read_table(image_dir, ratio=0.1):\n",
    "    im_name, is_outlier, outlier_label, true_label = [], [], [], []\n",
    "    for type in os.listdir(image_dir): \n",
    "        if os.path.isdir(image_dir + type + '/images/'):\n",
    "            with open(image_dir + type + '/' + type + '_outlier_' + str(ratio) + '.csv', 'rb') as csvfile:\n",
    "                spamwriter = csv.reader(csvfile, delimiter=',',\n",
    "                            quotechar='|', quoting=csv.QUOTE_MINIMAL)\n",
    "                for row in spamwriter:\n",
    "                    im_name.append(row[0])\n",
    "                    is_outlier.append(int(row[1]))\n",
    "                    outlier_label.append(row[2])\n",
    "                    true_label.append(row[3])\n",
    "    return im_name, is_outlier, outlier_label, true_label"
   ]
  },
  {
   "cell_type": "code",
   "execution_count": 38,
   "metadata": {},
   "outputs": [],
   "source": [
    "im_name, is_outlier, outlier_label, true_label = read_table(dir)"
   ]
  },
  {
   "cell_type": "code",
   "execution_count": 42,
   "metadata": {},
   "outputs": [
    {
     "data": {
      "text/plain": [
       "0.1"
      ]
     },
     "execution_count": 42,
     "metadata": {},
     "output_type": "execute_result"
    }
   ],
   "source": [
    "# verify the ratio\n",
    "float(sum(is_outlier))/len(im_name)"
   ]
  },
  {
   "cell_type": "code",
   "execution_count": null,
   "metadata": {},
   "outputs": [],
   "source": []
  }
 ],
 "metadata": {
  "kernelspec": {
   "display_name": "Python 2",
   "language": "python",
   "name": "python2"
  }
 },
 "nbformat": 4,
 "nbformat_minor": 2
}
